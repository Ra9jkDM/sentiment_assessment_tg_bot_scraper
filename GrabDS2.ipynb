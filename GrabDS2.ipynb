{
 "cells": [
  {
   "cell_type": "code",
   "execution_count": 1,
   "id": "8bdbff18-9513-4b7d-a710-6eadf81f759a",
   "metadata": {},
   "outputs": [],
   "source": [
    "import numpy as np\n",
    "import pandas as pd\n",
    "import matplotlib.pyplot as plt\n",
    "%matplotlib inline\n",
    "\n",
    "import requests\n",
    "from fake_useragent import UserAgent\n",
    "\n",
    "from bs4 import BeautifulSoup\n",
    "from lxml import etree\n",
    "import json\n",
    "\n",
    "import warnings\n",
    "warnings.filterwarnings(\"ignore\")\n",
    "\n",
    "from time import sleep\n",
    "\n",
    "import os"
   ]
  },
  {
   "cell_type": "code",
   "execution_count": null,
   "id": "eb1a3b38-ef88-4989-b768-1e96678b01bd",
   "metadata": {},
   "outputs": [],
   "source": []
  },
  {
   "cell_type": "code",
   "execution_count": 61,
   "id": "549d515c-883b-4323-8e17-e7ad51eec67f",
   "metadata": {},
   "outputs": [],
   "source": [
    "user_agent = UserAgent().firefox\n",
    "main_link = 'https://otzovik.com/reviews/institut_ekonomiki_upravleniya_i_socialnih_otnosheniy_russia_moscow/'\n",
    "base_link = 'https://otzovik.com'\n",
    "dir_name = 'reviews'"
   ]
  },
  {
   "cell_type": "code",
   "execution_count": 5,
   "id": "29e3b33d-cee6-46aa-8519-075f6ba18cb0",
   "metadata": {},
   "outputs": [],
   "source": [
    "res = requests.get(main_link, headers={'User-Agent': user_agent})\n",
    "bs = BeautifulSoup(res.content, 'html.parser')"
   ]
  },
  {
   "cell_type": "code",
   "execution_count": 10,
   "id": "38d5d28e-9fc2-49af-897e-5d3d378fc1d3",
   "metadata": {},
   "outputs": [
    {
     "data": {
      "text/plain": [
       "(8,\n",
       " [<a class=\"review-title\" href=\"/review_15522632.html\" itemprop=\"name\">Хорошие курсы повышения квалификации, меня все устроило.</a>,\n",
       "  <a class=\"review-title\" href=\"/review_12310367.html\" itemprop=\"name\">Не рекомендую</a>,\n",
       "  <a class=\"review-title\" href=\"/review_11334078.html\" itemprop=\"name\">Негативное впечатление об руководстве данного института.</a>,\n",
       "  <a class=\"review-title\" href=\"/review_11157254.html\" itemprop=\"name\">организация с крайне низким уровнем квалификации специалистов</a>,\n",
       "  <a class=\"review-title\" href=\"/review_7571570.html\" itemprop=\"name\">Не рекомендую иметь с ними дело</a>,\n",
       "  <a class=\"review-title\" href=\"/review_9532802.html\" itemprop=\"name\">Абсолютно непрозрачная и нечестная фирма</a>,\n",
       "  <a class=\"review-title\" href=\"/review_9380909.html\" itemprop=\"name\">недобросовестные поставщики услуг</a>,\n",
       "  <a class=\"review-title\" href=\"/review_9452114.html\" itemprop=\"name\">Отрицательное впечатление от конторы</a>],\n",
       " ['/review_15522632.html',\n",
       "  '/review_12310367.html',\n",
       "  '/review_11334078.html',\n",
       "  '/review_11157254.html',\n",
       "  '/review_7571570.html',\n",
       "  '/review_9532802.html',\n",
       "  '/review_9380909.html',\n",
       "  '/review_9452114.html'])"
      ]
     },
     "execution_count": 10,
     "metadata": {},
     "output_type": "execute_result"
    }
   ],
   "source": [
    "# print(bs.prettify())\n",
    "links = bs.find_all('a', attrs={'class': 'review-title'})\n",
    "len(links), links, [i['href'] for i in links]"
   ]
  },
  {
   "cell_type": "code",
   "execution_count": 26,
   "id": "c65ceb93-cbe0-43a2-93dd-d863f2957348",
   "metadata": {},
   "outputs": [],
   "source": [
    "link = 'https://otzovik.com/review_11334078.html'\n",
    "res = requests.get(link, headers={'User-Agent': user_agent})\n",
    "bs = BeautifulSoup(res.content, 'html.parser')"
   ]
  },
  {
   "cell_type": "code",
   "execution_count": 27,
   "id": "a2a650d3-e4e7-4aaf-b147-50100b47a39c",
   "metadata": {},
   "outputs": [
    {
     "data": {
      "text/plain": [
       "('Достоинства: никаких', 'Недостатки: непорядочность руководителя')"
      ]
     },
     "execution_count": 27,
     "metadata": {},
     "output_type": "execute_result"
    }
   ],
   "source": [
    "worth = bs.find_all('div', attrs={'class': 'review-plus'})\n",
    "flaws = bs.find_all('div', attrs={'class': 'review-minus'})\n",
    "worth[0].text, flaws[0].text"
   ]
  },
  {
   "cell_type": "code",
   "execution_count": 28,
   "id": "486b25e2-fe8c-4b6f-bbbd-5bab960076c4",
   "metadata": {},
   "outputs": [
    {
     "data": {
      "text/plain": [
       "'Работают по 100% предоплате, из - за пандемии услуги не оказали, деньги не возвращают, каждый раз кормят завтраками. Обосновать толком ничего не могут.'"
      ]
     },
     "execution_count": 28,
     "metadata": {},
     "output_type": "execute_result"
    }
   ],
   "source": [
    "text = bs.find_all('div', attrs={'class': 'review-body description'})\n",
    "text[0].text"
   ]
  },
  {
   "cell_type": "code",
   "execution_count": 38,
   "id": "608010fa-ece9-4171-a562-5c696d1cdcb8",
   "metadata": {},
   "outputs": [
    {
     "data": {
      "text/plain": [
       "1"
      ]
     },
     "execution_count": 38,
     "metadata": {},
     "output_type": "execute_result"
    }
   ],
   "source": [
    "score = bs.find_all('div', attrs={'class': 'rating-score tooltip-right'})\n",
    "int(score[0].text.replace('\\n', ''))"
   ]
  },
  {
   "cell_type": "code",
   "execution_count": 74,
   "id": "39d84003-4265-410d-b339-26853184ac8b",
   "metadata": {},
   "outputs": [],
   "source": [
    "proxies = {\n",
    "#  \"http\": \"http://93.171.157.249:8080\",\n",
    "'http':'http://46.47.197.210:3128'\n",
    "}\n",
    "\n",
    "def get_page(url):\n",
    "    res = requests.get(url, headers={'User-Agent': user_agent})#, proxies=proxies)\n",
    "    bs = BeautifulSoup(res.content, 'html.parser')\n",
    "    return bs\n",
    "\n",
    "def get_links(bs):\n",
    "    links = bs.find_all('a', attrs={'class': 'review-title'})\n",
    "    return [i['href'] for i in links]\n",
    "\n",
    "def get_review(bs):\n",
    "    obj = {}\n",
    "\n",
    "    worth = bs.find_all('div', attrs={'class': 'review-plus'})\n",
    "    flaws = bs.find_all('div', attrs={'class': 'review-minus'})\n",
    "    text = bs.find_all('div', attrs={'class': 'review-body description'})\n",
    "    score = bs.find_all('div', attrs={'class': 'rating-score tooltip-right'})\n",
    "\n",
    "\n",
    "    print(worth, flaws, text, score)\n",
    "    obj['plus'] = worth[0].text\n",
    "    obj['minus'] = flaws[0].text\n",
    "    obj['text'] = text[0].text\n",
    "    obj['score'] = int(score[0].text.replace('\\n', ''))\n",
    "    \n",
    "    return obj\n",
    "    "
   ]
  },
  {
   "cell_type": "code",
   "execution_count": 57,
   "id": "1fb6f0de-a630-4802-b8a8-904c887c73c7",
   "metadata": {},
   "outputs": [],
   "source": [
    "def get_reviews(url):\n",
    "    print(url)\n",
    "    bs = get_page(url)\n",
    "    links = get_links(bs)\n",
    "    print(links, bs)\n",
    "    reviews = []\n",
    "    for i in links:\n",
    "        print(i)\n",
    "        sleep(5)\n",
    "        bs = get_page(base_link+i)\n",
    "        reviews.append(get_review(bs))\n",
    "\n",
    "    return reviews\n"
   ]
  },
  {
   "cell_type": "code",
   "execution_count": 75,
   "id": "2954216e-249b-4d35-82b2-2f3d62b18e6b",
   "metadata": {},
   "outputs": [
    {
     "name": "stdout",
     "output_type": "stream",
     "text": [
      "https://otzovik.com/reviews/institut_ekonomiki_upravleniya_i_socialnih_otnosheniy_russia_moscow/\n",
      "[] <script language=\"JavaScript\">\n",
      "document.location.href = '/reviews/institut_ekonomiki_upravleniya_i_socialnih_otnosheniy_russia_moscow/?&capt4a=5591728995147810'\n",
      "</script><html lang=\"ru\">\n",
      "<head>\n",
      "<style type=\"text/css\">\n",
      "        *, *:before, *:after {\n",
      "            -webkit-box-sizing: border-box;\n",
      "            -moz-box-sizing: border-box;\n",
      "            box-sizing: border-box;\n",
      "        }\n",
      "        html {\n",
      "            height: 100%;\n",
      "            -webkit-text-size-adjust: 100%;\n",
      "        }\n",
      "        body {\n",
      "            min-height: 100%;\n",
      "            height: auto !important;\n",
      "            height: 100%;\n",
      "            position: relative;\n",
      "            font-family: \"Trebuchet MS\", Verdana, Arial, Helvetica, sans-serif;\n",
      "            font-size: 14px;\n",
      "            color: #2c2c2c;\n",
      "            -webkit-tap-highlight-color: rgba(0, 0, 0, 0);\n",
      "        }\n",
      "    </style>\n",
      "<meta content=\"text/html;charset=utf-8\" http-equiv=\"Content-Type\"/>\n",
      "<meta content=\"IE=Edge\" http-equiv=\"X-UA-Compatible\"/>\n",
      "<meta content=\"width=device-width, initial-scale=1, maximum-scale=1.0,  user-scalable=no\" name=\"viewport\"/>\n",
      "</head>\n",
      "<br/><br/>\n",
      "<form action=\"\" method=\"post\">\n",
      "<input name=\"captcha_url\" type=\"hidden\" value=\"/reviews/institut_ekonomiki_upravleniya_i_socialnih_otnosheniy_russia_moscow/?&amp;capt4a=5591728995147810\"/>\n",
      "<table align=\"center\" border=\"0\" style=\"max-width: 300px;\">\n",
      "<tr><td colspan=\"2\"><h1>Вы робот?</h1><font color=\"red\"></font></td></tr>\n",
      "<tr>\n",
      "<td nowrap=\"\" style=\"vertical-align: middle;\">\n",
      "<p>Код на картинке:</p><input name=\"llllllll\" style=\"width: 120px; font-size:20px;\" type=\"text\"/>\n",
      "</td>\n",
      "<td align=\"left\">\n",
      "<img src=\"/scripts/captcha/index.php?rand=5672858\"/>\n",
      "</td>\n",
      "</tr>\n",
      "<tr><td colspan=\"2\" height=\"100\"><input name=\"action_capcha_ban\" type=\"submit\" value=\"     Я не робот!     \"/></td></tr>\n",
      "<tr><td colspan=\"2\" height=\"100\">\n",
      "<br/><br/>С Вашего IP-адреса было много обращений к сайту Отзовик.<br/><br/>Если Вы пользуетесь VPN, анонимайзерами, режимом \"не оставлять следов в интернете\" в антивирусе или турбо-режимом в браузере, то отключите их, чтобы реже попадать на эту страницу. Спасибо.\n",
      "\t</td></tr>\n",
      "</table>\n",
      "</form>\n",
      "</html>\n",
      "\n"
     ]
    },
    {
     "data": {
      "text/plain": [
       "[]"
      ]
     },
     "execution_count": 75,
     "metadata": {},
     "output_type": "execute_result"
    }
   ],
   "source": [
    "# curl --proxy https://27.254.52.99:8080 icanhazip.com\n",
    "\n",
    "x = get_reviews(main_link)\n",
    "x"
   ]
  },
  {
   "cell_type": "code",
   "execution_count": 62,
   "id": "c68c2268-db3a-4e52-a78a-77de3c4db176",
   "metadata": {},
   "outputs": [],
   "source": [
    "os.mkdir(dir_name)\n",
    "\n",
    "def save_reviews(file_name, reviews):\n",
    "    with open(dir_name+'/'+file_name, 'a') as f:\n",
    "        f.write(json.dumps(reviews))"
   ]
  },
  {
   "cell_type": "code",
   "execution_count": 63,
   "id": "c3854e6d-1d4a-4735-955f-143b39567554",
   "metadata": {},
   "outputs": [],
   "source": [
    "save_reviews('1.txt', [{'text':12}, {'score':-1}])"
   ]
  },
  {
   "cell_type": "code",
   "execution_count": 82,
   "id": "8e0e6f38-c7f7-4c77-935f-7fcfab0af3de",
   "metadata": {},
   "outputs": [
    {
     "ename": "FileNotFoundError",
     "evalue": "[Errno 2] No such file or directory: 'reviews/3.txt'",
     "output_type": "error",
     "traceback": [
      "\u001b[0;31m---------------------------------------------------------------------------\u001b[0m",
      "\u001b[0;31mFileNotFoundError\u001b[0m                         Traceback (most recent call last)",
      "Cell \u001b[0;32mIn[82], line 10\u001b[0m\n\u001b[1;32m      8\u001b[0m files \u001b[38;5;241m=\u001b[39m os\u001b[38;5;241m.\u001b[39mlistdir(dir_name)\n\u001b[1;32m      9\u001b[0m amount_of_files \u001b[38;5;241m=\u001b[39m \u001b[38;5;28mlen\u001b[39m(files)\n\u001b[0;32m---> 10\u001b[0m pages \u001b[38;5;241m=\u001b[39m [get_json(i) \u001b[38;5;28;01mfor\u001b[39;00m i \u001b[38;5;129;01min\u001b[39;00m \u001b[38;5;28mrange\u001b[39m(\u001b[38;5;241m10\u001b[39m)]\n",
      "Cell \u001b[0;32mIn[82], line 10\u001b[0m, in \u001b[0;36m<listcomp>\u001b[0;34m(.0)\u001b[0m\n\u001b[1;32m      8\u001b[0m files \u001b[38;5;241m=\u001b[39m os\u001b[38;5;241m.\u001b[39mlistdir(dir_name)\n\u001b[1;32m      9\u001b[0m amount_of_files \u001b[38;5;241m=\u001b[39m \u001b[38;5;28mlen\u001b[39m(files)\n\u001b[0;32m---> 10\u001b[0m pages \u001b[38;5;241m=\u001b[39m [\u001b[43mget_json\u001b[49m\u001b[43m(\u001b[49m\u001b[43mi\u001b[49m\u001b[43m)\u001b[49m \u001b[38;5;28;01mfor\u001b[39;00m i \u001b[38;5;129;01min\u001b[39;00m \u001b[38;5;28mrange\u001b[39m(\u001b[38;5;241m10\u001b[39m)]\n",
      "Cell \u001b[0;32mIn[82], line 4\u001b[0m, in \u001b[0;36mget_json\u001b[0;34m(id)\u001b[0m\n\u001b[1;32m      3\u001b[0m \u001b[38;5;28;01mdef\u001b[39;00m \u001b[38;5;21mget_json\u001b[39m(\u001b[38;5;28mid\u001b[39m):\n\u001b[0;32m----> 4\u001b[0m     \u001b[38;5;28;01mwith\u001b[39;00m \u001b[38;5;28;43mopen\u001b[39;49m\u001b[43m(\u001b[49m\u001b[43mfile_names\u001b[49m\u001b[38;5;241;43m.\u001b[39;49m\u001b[43mformat\u001b[49m\u001b[43m(\u001b[49m\u001b[38;5;28;43mid\u001b[39;49m\u001b[43m)\u001b[49m\u001b[43m,\u001b[49m\u001b[43m \u001b[49m\u001b[38;5;124;43m'\u001b[39;49m\u001b[38;5;124;43mr\u001b[39;49m\u001b[38;5;124;43m'\u001b[39;49m\u001b[43m)\u001b[49m \u001b[38;5;28;01mas\u001b[39;00m f:\n\u001b[1;32m      5\u001b[0m         \u001b[38;5;66;03m# print(f.read())\u001b[39;00m\n\u001b[1;32m      6\u001b[0m         \u001b[38;5;28;01mreturn\u001b[39;00m json\u001b[38;5;241m.\u001b[39mloads(f\u001b[38;5;241m.\u001b[39mread())\n",
      "File \u001b[0;32m~/Documents/UNIC/venv/lib/python3.10/site-packages/IPython/core/interactiveshell.py:324\u001b[0m, in \u001b[0;36m_modified_open\u001b[0;34m(file, *args, **kwargs)\u001b[0m\n\u001b[1;32m    317\u001b[0m \u001b[38;5;28;01mif\u001b[39;00m file \u001b[38;5;129;01min\u001b[39;00m {\u001b[38;5;241m0\u001b[39m, \u001b[38;5;241m1\u001b[39m, \u001b[38;5;241m2\u001b[39m}:\n\u001b[1;32m    318\u001b[0m     \u001b[38;5;28;01mraise\u001b[39;00m \u001b[38;5;167;01mValueError\u001b[39;00m(\n\u001b[1;32m    319\u001b[0m         \u001b[38;5;124mf\u001b[39m\u001b[38;5;124m\"\u001b[39m\u001b[38;5;124mIPython won\u001b[39m\u001b[38;5;124m'\u001b[39m\u001b[38;5;124mt let you open fd=\u001b[39m\u001b[38;5;132;01m{\u001b[39;00mfile\u001b[38;5;132;01m}\u001b[39;00m\u001b[38;5;124m by default \u001b[39m\u001b[38;5;124m\"\u001b[39m\n\u001b[1;32m    320\u001b[0m         \u001b[38;5;124m\"\u001b[39m\u001b[38;5;124mas it is likely to crash IPython. If you know what you are doing, \u001b[39m\u001b[38;5;124m\"\u001b[39m\n\u001b[1;32m    321\u001b[0m         \u001b[38;5;124m\"\u001b[39m\u001b[38;5;124myou can use builtins\u001b[39m\u001b[38;5;124m'\u001b[39m\u001b[38;5;124m open.\u001b[39m\u001b[38;5;124m\"\u001b[39m\n\u001b[1;32m    322\u001b[0m     )\n\u001b[0;32m--> 324\u001b[0m \u001b[38;5;28;01mreturn\u001b[39;00m \u001b[43mio_open\u001b[49m\u001b[43m(\u001b[49m\u001b[43mfile\u001b[49m\u001b[43m,\u001b[49m\u001b[43m \u001b[49m\u001b[38;5;241;43m*\u001b[39;49m\u001b[43margs\u001b[49m\u001b[43m,\u001b[49m\u001b[43m \u001b[49m\u001b[38;5;241;43m*\u001b[39;49m\u001b[38;5;241;43m*\u001b[39;49m\u001b[43mkwargs\u001b[49m\u001b[43m)\u001b[49m\n",
      "\u001b[0;31mFileNotFoundError\u001b[0m: [Errno 2] No such file or directory: 'reviews/3.txt'"
     ]
    }
   ],
   "source": [
    "file_names = dir_name+\"/{}.txt\"\n",
    "\n",
    "def get_json(id):\n",
    "    with open(file_names.format(id), 'r') as f:\n",
    "        # print(f.read())\n",
    "        return json.loads(f.read())\n",
    "\n",
    "files = os.listdir(dir_name)\n",
    "amount_of_files = len(files)\n",
    "pages = [get_json(i) for i in range(10)]"
   ]
  },
  {
   "cell_type": "code",
   "execution_count": 97,
   "id": "d4b07473-3b0f-4095-843c-e33f48debb1c",
   "metadata": {},
   "outputs": [
    {
     "data": {
      "text/plain": [
       "[{'plus': 'Достоинства: Хороший садик, отличный персонал',\n",
       "  'minus': 'Недостатки: Фасад здания и отсутствие твердого специального покрытия на площадке',\n",
       "  'text': 'Здравствуйте. Хочу написать отзыв о детском садике №62 Кировского района. В этот сад ходили двое моих детей, старший ходил 2 года и малышка в ясли ходила. Впечатления от садика остались самые теплые.Со старшим были вначале сложности, он у меня непоседа, адаптация проходила долго, но потом ребенок привык и всё встало на свои места. Воспитатели и помощник воспитателя были старательными, добрыми, отзывчивыми, внимательными, ребенок ходил в сад с удовольствием и я была спокойна за него.\\n\\nОтдельное спасибо хочу сказать воспитателям и помощнику воспитателей яслей, самые добрые, самые лучшие, самые компетентные, самые-самые хорошие воспитатели. Ребенок очень быстро прошел адаптацию, вообще не слышала чтоб дети после сентября плакали у них, моя дочка быстро привыкла к садику и всегда ходила туда с удовольствием. В садике денег с родителей не требуют, всё что нужно для детей там есть. Садик внутри очень уютный, а по большим праздникам садик украшают очень интересно, дети проходя по садику, еще по пути в группу идут с восторгом и восхищением, разглядывая подделки и плакаты. Родители тоже с восторгом разглядывают всю эту красоту и большой творческий труд работников детского сада, очень круто! Очень уютный садик! Заведующая всегда идет на встречу, выслушает и решит вопрос. Хочется пожелать этому замечательному детскому саду процветания в будущем! А ещё, было бы здорово, если б фасад здания был не такой унылый и серый как сейчас и площадки детские на улице сделали бы со специальным покрытием, как сейчас делают на новых площадках. С таким покрытием дети домой приходят гораздо чище)',\n",
       "  'score': 5}]"
      ]
     },
     "execution_count": 97,
     "metadata": {},
     "output_type": "execute_result"
    }
   ],
   "source": [
    "get_json(698)['review_list']"
   ]
  }
 ],
 "metadata": {
  "kernelspec": {
   "display_name": "Python 3 (ipykernel)",
   "language": "python",
   "name": "python3"
  },
  "language_info": {
   "codemirror_mode": {
    "name": "ipython",
    "version": 3
   },
   "file_extension": ".py",
   "mimetype": "text/x-python",
   "name": "python",
   "nbconvert_exporter": "python",
   "pygments_lexer": "ipython3",
   "version": "3.10.12"
  },
  "widgets": {
   "application/vnd.jupyter.widget-state+json": {
    "state": {},
    "version_major": 2,
    "version_minor": 0
   }
  }
 },
 "nbformat": 4,
 "nbformat_minor": 5
}
